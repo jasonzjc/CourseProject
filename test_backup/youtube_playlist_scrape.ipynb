{
 "cells": [
  {
   "cell_type": "code",
   "execution_count": 50,
   "metadata": {},
   "outputs": [],
   "source": [
    "from bs4 import BeautifulSoup\n",
    "from selenium import webdriver \n",
    "from selenium.webdriver.chrome.options import Options\n",
    "import requests\n",
    "import re"
   ]
  },
  {
   "cell_type": "code",
   "execution_count": 17,
   "metadata": {},
   "outputs": [],
   "source": [
    "url = \"https://www.youtube.com/playlist?list=PLUl4u3cNGP63z5HAguqleEbsICfHgDPaG\""
   ]
  },
  {
   "cell_type": "code",
   "execution_count": 4,
   "metadata": {},
   "outputs": [],
   "source": [
    "sourceCode = requests.get(url).content"
   ]
  },
  {
   "cell_type": "code",
   "execution_count": 7,
   "metadata": {},
   "outputs": [],
   "source": [
    "soup = BeautifulSoup(sourceCode, 'html.parser')"
   ]
  },
  {
   "cell_type": "code",
   "execution_count": 11,
   "metadata": {},
   "outputs": [],
   "source": [
    "playlist = {}\n",
    "for a in soup.findAll('a', attrs={'class':'yt-simple-endpoint style-scope ytd-playlist-panel-video-renderer'}):\n",
    "    # playlist_name = a.get('title')\n",
    "    # # In here we clean up name variable, because maybe it has bash expressions like => ()'| > <\"\n",
    "    # playlist_name = playlist_name \\\n",
    "    #                 .replace(\" \", \"\") \\\n",
    "    #                 .replace(\"/\", \"_\") \\\n",
    "    #                 .replace(\"|\", \"_\") \\\n",
    "    #                 .replace(\"(\", \"_\") \\\n",
    "    #                 .replace(\")\", \"_\") \\\n",
    "    #                 .replace(\"*\", \"_\") \\\n",
    "    #                 .replace(\">\", \"_\") \\\n",
    "    #                 .replace(\"<\", \"_\")\n",
    "\n",
    "    playlist_link = playlist_link.append(a.get('href'))\n",
    "    # playlist[playlist_name] = playlist_link"
   ]
  },
  {
   "cell_type": "code",
   "execution_count": 15,
   "metadata": {},
   "outputs": [
    {
     "data": {
      "text/plain": [
       "[]"
      ]
     },
     "execution_count": 15,
     "metadata": {},
     "output_type": "execute_result"
    }
   ],
   "source": [
    "soup.findAll('a', attrs={'id':'video-title'})"
   ]
  },
  {
   "cell_type": "code",
   "execution_count": 22,
   "metadata": {},
   "outputs": [],
   "source": [
    "#create a webdriver object and set options for headless browsing\n",
    "options = Options()\n",
    "options.headless = True\n",
    "driver = webdriver.Chrome('./chromedriver',options=options)"
   ]
  },
  {
   "cell_type": "code",
   "execution_count": 24,
   "metadata": {},
   "outputs": [],
   "source": [
    "#uses webdriver object to execute javascript code and get dynamically loaded webcontent\n",
    "def get_js_soup(url,driver):\n",
    "    driver.get(url)\n",
    "    res_html = driver.execute_script('return document.body.innerHTML')\n",
    "    soup = BeautifulSoup(res_html,'html.parser') #beautiful soup object to be used for parsing html content\n",
    "    return soup\n",
    "soup = get_js_soup(url,driver)  "
   ]
  },
  {
   "cell_type": "code",
   "execution_count": 37,
   "metadata": {},
   "outputs": [],
   "source": [
    "playlist = {}\n",
    "url_head = 'http://www.youtube.com'\n",
    "for a in soup.findAll('a', attrs={'class':'yt-simple-endpoint style-scope ytd-playlist-video-renderer'}):\n",
    "    video_title = a.get('title')\n",
    "    video_link = a.get('href')\n",
    "    playlist[video_title] = url_head+video_link"
   ]
  },
  {
   "cell_type": "code",
   "execution_count": 38,
   "metadata": {},
   "outputs": [
    {
     "data": {
      "text/plain": [
       "{'1. Introduction (Intro to Solid-State Chemistry)': 'http://www.youtube.com/watch?v=Ao41FrJFgvQ&list=PLUl4u3cNGP63z5HAguqleEbsICfHgDPaG&index=1',\n",
       " 'Goodie Bag 1: Atoms and Reactions (Intro to Solid-State Chemistry)': 'http://www.youtube.com/watch?v=vewtUlemzto&list=PLUl4u3cNGP63z5HAguqleEbsICfHgDPaG&index=2',\n",
       " '2. The Periodic Table (Intro to Solid-State Chemistry)': 'http://www.youtube.com/watch?v=HaL1Q8f7M_o&list=PLUl4u3cNGP63z5HAguqleEbsICfHgDPaG&index=3',\n",
       " '3. Atomic Models (Intro to Solid-State Chemistry)': 'http://www.youtube.com/watch?v=e_WABkM-Kxo&list=PLUl4u3cNGP63z5HAguqleEbsICfHgDPaG&index=4',\n",
       " '4. Atomic Spectra (Intro to Solid-State Chemistry)': 'http://www.youtube.com/watch?v=Ji20_qhjk2Y&list=PLUl4u3cNGP63z5HAguqleEbsICfHgDPaG&index=5',\n",
       " '5. Shell Models and Quantum Numbers (Intro to Solid-State Chemistry)': 'http://www.youtube.com/watch?v=rkFY8WB8tfs&list=PLUl4u3cNGP63z5HAguqleEbsICfHgDPaG&index=6',\n",
       " 'Goodie Bag 2: Electronic Transitions (Intro to Solid-State Chemistry)': 'http://www.youtube.com/watch?v=KBgF_4xmahM&list=PLUl4u3cNGP63z5HAguqleEbsICfHgDPaG&index=7',\n",
       " '6. Electron Shell Model, Quantum Numbers, and PES (Intro to Solid-State Chemistry)': 'http://www.youtube.com/watch?v=4Dr3Q-ezMZk&list=PLUl4u3cNGP63z5HAguqleEbsICfHgDPaG&index=8',\n",
       " '7. Aufbau Principle and Atomic Orbitals (Intro to Solid-State Chemistry)': 'http://www.youtube.com/watch?v=bhPMi2IvZXs&list=PLUl4u3cNGP63z5HAguqleEbsICfHgDPaG&index=9',\n",
       " 'Goodie Bag 3: Ionic Solids (Intro to Solid-State Chemistry)': 'http://www.youtube.com/watch?v=iLCVVag7Z7M&list=PLUl4u3cNGP63z5HAguqleEbsICfHgDPaG&index=10',\n",
       " '8. Ionization Energy and Potential Energy Surface (PES) (Intro to Solid-State Chemistry)': 'http://www.youtube.com/watch?v=LV3l9yqJwio&list=PLUl4u3cNGP63z5HAguqleEbsICfHgDPaG&index=11',\n",
       " '9. Lewis Structures I (Intro to Solid-State Chemistry)': 'http://www.youtube.com/watch?v=DvGNpuan4rw&list=PLUl4u3cNGP63z5HAguqleEbsICfHgDPaG&index=12',\n",
       " '10. Lewis Structures II (Intro to Solid-State Chemistry)': 'http://www.youtube.com/watch?v=aCJECIYz8gM&list=PLUl4u3cNGP63z5HAguqleEbsICfHgDPaG&index=13',\n",
       " '11. Shapes of Molecules and VSEPR (Intro to Solid-State Chemistry)': 'http://www.youtube.com/watch?v=g9v8zj6VObw&list=PLUl4u3cNGP63z5HAguqleEbsICfHgDPaG&index=14',\n",
       " 'Goodie Bag 4: VSEPR (Intro to Solid-State Chemistry)': 'http://www.youtube.com/watch?v=s2QJtkcA1Uk&list=PLUl4u3cNGP63z5HAguqleEbsICfHgDPaG&index=15',\n",
       " '12. Molecular Orbitals (Intro to Solid-State Chemistry)': 'http://www.youtube.com/watch?v=L0b9wq0js4I&list=PLUl4u3cNGP63z5HAguqleEbsICfHgDPaG&index=16',\n",
       " '13. Hybridization (Intro to Solid-State Chemistry)': 'http://www.youtube.com/watch?v=UzDqh-1Koyc&list=PLUl4u3cNGP63z5HAguqleEbsICfHgDPaG&index=17',\n",
       " '14. Intermolecular Forces (Intro to Solid-State Chemistry)': 'http://www.youtube.com/watch?v=OMFpHmfC1pY&list=PLUl4u3cNGP63z5HAguqleEbsICfHgDPaG&index=18',\n",
       " 'Goodie Bag 5: Electronic Materials (Intro to Solid-State Chemistry)': 'http://www.youtube.com/watch?v=u0h5IUouNk0&list=PLUl4u3cNGP63z5HAguqleEbsICfHgDPaG&index=19',\n",
       " 'Additional Lecture 1. Phases (Intro to Solid-State Chemistry 2019)': 'http://www.youtube.com/watch?v=P34zaLtmsn0&list=PLUl4u3cNGP63z5HAguqleEbsICfHgDPaG&index=20',\n",
       " '15. Semiconductors (Intro to Solid-State Chemistry)': 'http://www.youtube.com/watch?v=CxAkraYlBuE&list=PLUl4u3cNGP63z5HAguqleEbsICfHgDPaG&index=21',\n",
       " '16. Doping (Intro to Solid-State Chemistry)': 'http://www.youtube.com/watch?v=Ep7mkm_T0Po&list=PLUl4u3cNGP63z5HAguqleEbsICfHgDPaG&index=22',\n",
       " '17. Metals (Intro to Solid-State Chemistry)': 'http://www.youtube.com/watch?v=Yap0AKRczf0&list=PLUl4u3cNGP63z5HAguqleEbsICfHgDPaG&index=23',\n",
       " '18. Introduction to Crystallography (Intro to Solid-State Chemistry)': 'http://www.youtube.com/watch?v=R0sw85RkKCY&list=PLUl4u3cNGP63z5HAguqleEbsICfHgDPaG&index=24',\n",
       " 'Goodie Bag 6: Crystallography (Intro to Solid-State Chemistry)': 'http://www.youtube.com/watch?v=wFuIzicEWD8&list=PLUl4u3cNGP63z5HAguqleEbsICfHgDPaG&index=25',\n",
       " '19. Crystallographic Notation (Intro to Solid-State Chemistry)': 'http://www.youtube.com/watch?v=g4lxRZ7T5_o&list=PLUl4u3cNGP63z5HAguqleEbsICfHgDPaG&index=26',\n",
       " '20. X-ray Emission and Absorption (Intro to Solid-State Chemistry)': 'http://www.youtube.com/watch?v=tKyaGnPni3U&list=PLUl4u3cNGP63z5HAguqleEbsICfHgDPaG&index=27',\n",
       " '21. X-ray Diffraction Techniques I (Intro to Solid-State Chemistry)': 'http://www.youtube.com/watch?v=AqCz_b7VJK8&list=PLUl4u3cNGP63z5HAguqleEbsICfHgDPaG&index=28',\n",
       " '22. X-ray Diffraction Techniques II (Intro to Solid-State Chemistry)': 'http://www.youtube.com/watch?v=S1kqa_qGmHs&list=PLUl4u3cNGP63z5HAguqleEbsICfHgDPaG&index=29',\n",
       " '23. Point and Line Defects I (Intro to Solid-State Chemistry)': 'http://www.youtube.com/watch?v=YROT1JTNLWs&list=PLUl4u3cNGP63z5HAguqleEbsICfHgDPaG&index=30',\n",
       " 'Goodie Bag 7: Defects (Intro to Solid-State Chemistry)': 'http://www.youtube.com/watch?v=BbascVoYf_E&list=PLUl4u3cNGP63z5HAguqleEbsICfHgDPaG&index=31',\n",
       " '24. Point and Line Defects II (Intro to Solid-State Chemistry)': 'http://www.youtube.com/watch?v=7_IoLAXtQ3k&list=PLUl4u3cNGP63z5HAguqleEbsICfHgDPaG&index=32',\n",
       " '25. Introduction to Glassy Solids (Intro to Solid-State Chemistry)': 'http://www.youtube.com/watch?v=AbyrF4VtlYY&list=PLUl4u3cNGP63z5HAguqleEbsICfHgDPaG&index=33',\n",
       " '26. Engineering Glass Properties (Intro to Solid-State Chemistry)': 'http://www.youtube.com/watch?v=KPJvO_00LKQ&list=PLUl4u3cNGP63z5HAguqleEbsICfHgDPaG&index=34',\n",
       " '27. Reaction Rates (Intro to Solid-State Chemistry)': 'http://www.youtube.com/watch?v=GhwBpZx3LjI&list=PLUl4u3cNGP63z5HAguqleEbsICfHgDPaG&index=35',\n",
       " 'Goodie Bag 8: Reactions (Intro to Solid-State Chemistry)': 'http://www.youtube.com/watch?v=cSER5tjagqE&list=PLUl4u3cNGP63z5HAguqleEbsICfHgDPaG&index=36',\n",
       " '28. Introduction to Aqueous Solutions (Intro to Solid-State Chemistry)': 'http://www.youtube.com/watch?v=9SvAZgd0J_A&list=PLUl4u3cNGP63z5HAguqleEbsICfHgDPaG&index=37',\n",
       " '29. Acids and Bases I (Intro to Solid-State Chemistry)': 'http://www.youtube.com/watch?v=ZSv_gYLBi8E&list=PLUl4u3cNGP63z5HAguqleEbsICfHgDPaG&index=38',\n",
       " '30. Acids and Bases II (Intro to Solid-State Chemistry)': 'http://www.youtube.com/watch?v=xrf39mMxPZg&list=PLUl4u3cNGP63z5HAguqleEbsICfHgDPaG&index=39',\n",
       " '31. Exam Review (Intro to Solid-State Chemistry)': 'http://www.youtube.com/watch?v=1rgmGwAqMYc&list=PLUl4u3cNGP63z5HAguqleEbsICfHgDPaG&index=40',\n",
       " '32. Polymers I (Intro to Solid-State Chemistry)': 'http://www.youtube.com/watch?v=LMSTMBX_2F4&list=PLUl4u3cNGP63z5HAguqleEbsICfHgDPaG&index=41',\n",
       " 'Additional Lecture 2. The Chemistry of Batteries (Intro to Solid-State Chemistry 2019)': 'http://www.youtube.com/watch?v=uOEXP2WEo3M&list=PLUl4u3cNGP63z5HAguqleEbsICfHgDPaG&index=42',\n",
       " '33. Polymers II (Intro to Solid-State Chemistry)': 'http://www.youtube.com/watch?v=cMIRECEsKHM&list=PLUl4u3cNGP63z5HAguqleEbsICfHgDPaG&index=43',\n",
       " '34. Introduction to Organic Chemistry (Intro to Solid-State Chemistry)': 'http://www.youtube.com/watch?v=iPzRbK3wApI&list=PLUl4u3cNGP63z5HAguqleEbsICfHgDPaG&index=44',\n",
       " 'Goodie Bag 9: Polymers (Intro to Solid-State Chemistry)': 'http://www.youtube.com/watch?v=Gqic72B-1MU&list=PLUl4u3cNGP63z5HAguqleEbsICfHgDPaG&index=45',\n",
       " '35. Diffusion I (Intro to Solid-State Chemistry)': 'http://www.youtube.com/watch?v=j4m0Ye5Qgcg&list=PLUl4u3cNGP63z5HAguqleEbsICfHgDPaG&index=46',\n",
       " '36. Diffusion II (Intro to Solid-State Chemistry)': 'http://www.youtube.com/watch?v=UF94OiDYgBY&list=PLUl4u3cNGP63z5HAguqleEbsICfHgDPaG&index=47'}"
      ]
     },
     "execution_count": 38,
     "metadata": {},
     "output_type": "execute_result"
    }
   ],
   "source": [
    "playlist"
   ]
  },
  {
   "cell_type": "code",
   "execution_count": 39,
   "metadata": {},
   "outputs": [],
   "source": [
    "x= 'http://www.youtube.com/watch?v=Ao41FrJFgvQ&list=PLUl4u3cNGP63z5HAguqleEbsICfHgDPaG&index=1'"
   ]
  },
  {
   "cell_type": "code",
   "execution_count": 40,
   "metadata": {},
   "outputs": [],
   "source": [
    "import re"
   ]
  },
  {
   "cell_type": "code",
   "execution_count": 49,
   "metadata": {},
   "outputs": [
    {
     "data": {
      "text/plain": [
       "'Ao41FrJFgvQ'"
      ]
     },
     "execution_count": 49,
     "metadata": {},
     "output_type": "execute_result"
    }
   ],
   "source": [
    "re.search('watch\\?v=(.+)&list',x).group(1)"
   ]
  },
  {
   "cell_type": "code",
   "execution_count": null,
   "metadata": {},
   "outputs": [],
   "source": []
  }
 ],
 "metadata": {
  "interpreter": {
   "hash": "86281ddc33a1165d37b9ef2a81b1d86a639714f7474ca45b8f2fce5a3ddd53e6"
  },
  "kernelspec": {
   "display_name": "Python 3.6.14 64-bit ('3.6.14': pyenv)",
   "language": "python",
   "name": "python3"
  },
  "language_info": {
   "codemirror_mode": {
    "name": "ipython",
    "version": 3
   },
   "file_extension": ".py",
   "mimetype": "text/x-python",
   "name": "python",
   "nbconvert_exporter": "python",
   "pygments_lexer": "ipython3",
   "version": "3.6.14"
  },
  "orig_nbformat": 4
 },
 "nbformat": 4,
 "nbformat_minor": 2
}
