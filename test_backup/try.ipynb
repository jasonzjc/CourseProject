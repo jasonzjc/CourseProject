{
 "cells": [
  {
   "cell_type": "code",
   "execution_count": 1,
   "metadata": {},
   "outputs": [],
   "source": [
    "import metapy\n",
    "metapy.log_to_stderr()"
   ]
  },
  {
   "cell_type": "code",
   "execution_count": 4,
   "metadata": {},
   "outputs": [],
   "source": [
    "import os, glob\n",
    "doc_path = r'test data/*.vtt'\n",
    "script_path = glob.glob(doc_path)"
   ]
  },
  {
   "cell_type": "code",
   "execution_count": 5,
   "metadata": {},
   "outputs": [
    {
     "data": {
      "text/plain": [
       "['test data/tr-lec1-transcription-english.vtt']"
      ]
     },
     "execution_count": 5,
     "metadata": {},
     "output_type": "execute_result"
    }
   ],
   "source": [
    "script_path"
   ]
  },
  {
   "cell_type": "code",
   "execution_count": 8,
   "metadata": {},
   "outputs": [],
   "source": [
    "time_arrow = '-->'\n",
    "scrip_content = []\n",
    "doc = metapy.index.Document()\n",
    "with open(script_path[0]) as query_file:\n",
    "    start_flg = 0\n",
    "    for line in query_file:\n",
    "        if start_flg == 1 and time_arrow not in line:\n",
    "            scrip_content.append(line.strip())\n",
    "        elif start_flg == 0 and time_arrow in line:\n",
    "            start_flg = 1\n",
    "\n",
    "doc.content(' '.join(scrip_content))"
   ]
  },
  {
   "cell_type": "code",
   "execution_count": 20,
   "metadata": {},
   "outputs": [],
   "source": [
    "tok = metapy.analyzers.ICUTokenizer(suppress_tags=True)\n",
    "tok = metapy.analyzers.LengthFilter(tok, min=2, max=30)\n",
    "# tok = metapy.analyzers.Porter2Filter(tok)\n",
    "tok = metapy.analyzers.ListFilter(tok, r'test data/stopwords.txt', metapy.analyzers.ListFilter.Type.Reject)\n",
    "tok.set_content(doc.content())\n",
    "tokens = [token for token in tok]"
   ]
  },
  {
   "cell_type": "code",
   "execution_count": null,
   "metadata": {},
   "outputs": [],
   "source": [
    "ana = metapy.analyzers.NGramWordAnalyzer(2, tok)\n",
    "unigrams = ana.analyze(doc)\n",
    "print(unigrams)"
   ]
  },
  {
   "cell_type": "code",
   "execution_count": null,
   "metadata": {},
   "outputs": [],
   "source": []
  }
 ],
 "metadata": {
  "interpreter": {
   "hash": "daec0f2e622ba2f67c42a0a34f2a85dc530a811dcfd529af97a46ceab9743702"
  },
  "kernelspec": {
   "display_name": "Python 3.5.10 64-bit ('3.5.10': pyenv)",
   "name": "python3"
  },
  "language_info": {
   "codemirror_mode": {
    "name": "ipython",
    "version": 3
   },
   "file_extension": ".py",
   "mimetype": "text/x-python",
   "name": "python",
   "nbconvert_exporter": "python",
   "pygments_lexer": "ipython3",
   "version": "3.5.10"
  },
  "orig_nbformat": 4
 },
 "nbformat": 4,
 "nbformat_minor": 2
}
